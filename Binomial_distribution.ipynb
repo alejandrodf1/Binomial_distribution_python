{
 "cells": [
  {
   "cell_type": "markdown",
   "source": "## Bernoulli events definition\n\n$$\nP(k, n; p) = {n \\choose k} p^k (1-p)^{n-k} = \\frac{n!}{k!(n-k)!}p^k (1-p)^{n-k}\n$$",
   "metadata": {
    "tags": [],
    "cell_id": "00000-4a927145-e09e-4973-9fca-16915f61797c",
    "deepnote_cell_type": "markdown"
   }
  },
  {
   "cell_type": "code",
   "metadata": {
    "tags": [],
    "cell_id": "00000-b0a59783-2292-4c16-87bb-93121bfc812e",
    "deepnote_to_be_reexecuted": false,
    "source_hash": "3f069e68",
    "execution_start": 1626295275538,
    "execution_millis": 1559,
    "deepnote_cell_type": "code"
   },
   "source": "import numpy as np\nfrom numpy.random import binomial      #binomial number generator\nfrom scipy.stats import binom\nfrom math import factorial             #math functions\nimport matplotlib.pyplot as plt        #to graph",
   "outputs": [],
   "execution_count": null
  },
  {
   "cell_type": "code",
   "metadata": {
    "tags": [],
    "cell_id": "00002-103cf4da-9a74-4921-ad5b-b8a9f5201a83",
    "deepnote_to_be_reexecuted": false,
    "source_hash": "5373150c",
    "execution_start": 1626295277100,
    "execution_millis": 5,
    "deepnote_cell_type": "code"
   },
   "source": "def my_binomial(k,n,p):              #function that calculate the bernoulli events\n    return (factorial(n)/(factorial(k)*factorial(n-k)))*pow(p,k)*pow(1-p,n-k)",
   "outputs": [],
   "execution_count": null
  },
  {
   "cell_type": "code",
   "metadata": {
    "tags": [],
    "cell_id": "00003-37b945b0-9938-4621-bd26-421f184df390",
    "deepnote_to_be_reexecuted": false,
    "source_hash": "4c3ad311",
    "execution_start": 1626295277115,
    "execution_millis": 15,
    "deepnote_cell_type": "code"
   },
   "source": "dist = binom(3, 0.5)\ndist.pmf(2)",
   "outputs": [
    {
     "output_type": "execute_result",
     "execution_count": 3,
     "data": {
      "text/plain": "0.3750000000000001"
     },
     "metadata": {}
    }
   ],
   "execution_count": null
  },
  {
   "cell_type": "markdown",
   "source": "# To calculate accumulative density\n* For the following example let's see:\n\n$$\nP(k\\leq 2, n=3, p=1/2) = \\sum_{k=0}^2 \\left[ \\frac{n!}{k!(n-k)!}p^k (1-p)^{n-k} \\right] = \\frac{7}{8}\n$$\n",
   "metadata": {
    "tags": [],
    "cell_id": "00004-94ef4992-dda7-4344-8d4e-3684a3b03865",
    "deepnote_cell_type": "markdown"
   }
  },
  {
   "cell_type": "code",
   "metadata": {
    "tags": [],
    "cell_id": "00005-59c8ab35-cfa1-42d9-bd44-0f8d6f724517",
    "deepnote_to_be_reexecuted": false,
    "source_hash": "793dbc8b",
    "execution_start": 1626295277122,
    "execution_millis": 10,
    "deepnote_cell_type": "code"
   },
   "source": "dist.cdf(2)                  #accumulate density function to calculate the example before",
   "outputs": [
    {
     "output_type": "execute_result",
     "execution_count": 4,
     "data": {
      "text/plain": "0.875"
     },
     "metadata": {}
    }
   ],
   "execution_count": null
  },
  {
   "cell_type": "markdown",
   "source": "# Simulation of sequences with random generators\n* This random generators have the purpose of simulate samples of data that will result from samples in real life from random process for instance, a coin ",
   "metadata": {
    "tags": [],
    "cell_id": "00006-79ba3ff8-4ae4-48ab-ba0f-3c5dc0e2fef5",
    "deepnote_cell_type": "markdown"
   }
  },
  {
   "cell_type": "code",
   "metadata": {
    "tags": [],
    "cell_id": "00007-48cd9d5d-23c9-46f5-9370-f4e2c742e756",
    "deepnote_to_be_reexecuted": false,
    "source_hash": "ff6284f0",
    "execution_start": 1626295287990,
    "execution_millis": 9,
    "deepnote_cell_type": "code"
   },
   "source": "# simulation of 100 throwing of coin in equilibrium\n#variation result in every reload of the code\n\np = 0.5         #probability of the binomial event\nn = 3           #number of throwing\nbinomial(n, p)  #binomial representation, tells me how many of one event happen ",
   "outputs": [
    {
     "output_type": "execute_result",
     "execution_count": 9,
     "data": {
      "text/plain": "1"
     },
     "metadata": {}
    }
   ],
   "execution_count": null
  },
  {
   "cell_type": "code",
   "metadata": {
    "tags": [],
    "cell_id": "00008-77e55328-d11b-4876-aa5c-15c75a6498e4",
    "deepnote_to_be_reexecuted": false,
    "source_hash": "7ed79a76",
    "execution_start": 1626295408960,
    "execution_millis": 2,
    "deepnote_cell_type": "code"
   },
   "source": "arr = []                        #vector to save our values\nfor i in range(100):            #a for loop to create our binomial distribution\n    arr.append(binomial(n,p))",
   "outputs": [],
   "execution_count": null
  },
  {
   "cell_type": "code",
   "metadata": {
    "tags": [],
    "cell_id": "00009-f45a7465-b9b1-4f93-aae4-3f56521a9241",
    "deepnote_to_be_reexecuted": false,
    "source_hash": "de612bd1",
    "execution_start": 1626296134047,
    "execution_millis": 179,
    "deepnote_cell_type": "code"
   },
   "source": "def plot_hist(num_trials):\n    values = [0,1,2,3]\n    arr=[]\n    for i in range(num_trials):\n        arr.append(binomial(n,p))\n    sim = np.unique(arr, return_counts= True)[1]/len(arr)      #list of probabilities of the throwing from my experiment\n    theory = [binom(3, 0.5).pmf(k) for k in values]            #list of probabilities that create the theorical values \n    plt.bar(values, sim, color = 'red')\n    plt.bar(values, theory, alpha = 0.5, color= 'blue')\n    plt.title('{} experiments'.format(num_trials))\n    plt.show()  \n\n#plot_hist(20)\nplot_hist(200)          #lets try with 200 experiments   ",
   "outputs": [
    {
     "data": {
      "text/plain": "<Figure size 432x288 with 1 Axes>",
      "image/png": "[encoded data removed]"
     },
     "metadata": {
      "needs_background": "light",
      "image/png": {
       "width": 379,
       "height": 264
      }
     },
     "output_type": "display_data"
    }
   ],
   "execution_count": null
  },
  {
   "cell_type": "code",
   "metadata": {
    "tags": [],
    "cell_id": "00010-ed869d3e-c09f-459c-8f00-217b3ab8eb6b",
    "deepnote_to_be_reexecuted": false,
    "source_hash": "d553d971",
    "execution_start": 1626295631326,
    "execution_millis": 14,
    "deepnote_cell_type": "code"
   },
   "source": "np.unique(arr, return_counts= True)[1]/len(arr)",
   "outputs": [
    {
     "output_type": "execute_result",
     "execution_count": 14,
     "data": {
      "text/plain": "array([0.12, 0.42, 0.32, 0.14])"
     },
     "metadata": {}
    }
   ],
   "execution_count": null
  },
  {
   "cell_type": "markdown",
   "source": "<a style='text-decoration:none;line-height:16px;display:flex;color:#5B5B62;padding:10px;justify-content:end;' href='https://deepnote.com?utm_source=created-in-deepnote-cell&projectId=f6083645-f564-4778-b170-125c37d23041' target=\"_blank\">\n<img alt='Created in deepnote.com' style='display:inline;max-height:16px;margin:0px;margin-right:7.5px;' src='data:image/svg+xml;base64,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' > </img>\nCreated in <span style='font-weight:600;margin-left:4px;'>Deepnote</span></a>",
   "metadata": {
    "tags": [],
    "created_in_deepnote_cell": true,
    "deepnote_cell_type": "markdown"
   }
  }
 ],
 "nbformat": 4,
 "nbformat_minor": 2,
 "metadata": {
  "orig_nbformat": 2,
  "deepnote": {
   "is_reactive": false
  },
  "deepnote_notebook_id": "fb0cf448-6ca7-400c-b5e9-76fc7fcad7bd",
  "deepnote_execution_queue": []
 }
}